{
 "cells": [
  {
   "cell_type": "code",
   "execution_count": 1,
   "id": "3ab06617-afbe-40b4-986a-0c0ea74b5e4a",
   "metadata": {},
   "outputs": [],
   "source": [
    "#chi-square test \n",
    "#objective : is defecutive proporation are independence of the countary \n",
    "#the dataseys contains two colums \n",
    "\n",
    "#Defeactive : Indicates whether an items is defective (linkely binary ,#with 1 for default and 0abs\n",
    "# not default is 0)\n",
    "# the datasets has 800 entiesies and the theres are \n",
    "# no anylates defaults racts acrros diffrent contries \n",
    "# to defaults with the chi defualte test is defpends of country "
   ]
  },
  {
   "cell_type": "code",
   "execution_count": 3,
   "id": "5caf7759-f94a-40cd-b7bd-931a3d574e87",
   "metadata": {},
   "outputs": [],
   "source": [
    "import pandas as pd \n",
    "import numpy as np \n",
    "bahaman =pd.read_csv(\"Bahama.csv\")"
   ]
  },
  {
   "cell_type": "code",
   "execution_count": 6,
   "id": "ca4e5f41-6d78-4840-b5a2-b51aa66ab589",
   "metadata": {},
   "outputs": [],
   "source": [
    "count=pd.crosstab(bahaman['Defective'],bahaman['Country'])"
   ]
  },
  {
   "cell_type": "code",
   "execution_count": 7,
   "id": "65932643-896f-4215-aa29-1e79979d6943",
   "metadata": {},
   "outputs": [
    {
     "data": {
      "text/html": [
       "<div>\n",
       "<style scoped>\n",
       "    .dataframe tbody tr th:only-of-type {\n",
       "        vertical-align: middle;\n",
       "    }\n",
       "\n",
       "    .dataframe tbody tr th {\n",
       "        vertical-align: top;\n",
       "    }\n",
       "\n",
       "    .dataframe thead th {\n",
       "        text-align: right;\n",
       "    }\n",
       "</style>\n",
       "<table border=\"1\" class=\"dataframe\">\n",
       "  <thead>\n",
       "    <tr style=\"text-align: right;\">\n",
       "      <th>Country</th>\n",
       "      <th>Bangladesh</th>\n",
       "      <th>China</th>\n",
       "      <th>India</th>\n",
       "      <th>Srilanka</th>\n",
       "    </tr>\n",
       "    <tr>\n",
       "      <th>Defective</th>\n",
       "      <th></th>\n",
       "      <th></th>\n",
       "      <th></th>\n",
       "      <th></th>\n",
       "    </tr>\n",
       "  </thead>\n",
       "  <tbody>\n",
       "    <tr>\n",
       "      <th>0</th>\n",
       "      <td>183</td>\n",
       "      <td>179</td>\n",
       "      <td>175</td>\n",
       "      <td>178</td>\n",
       "    </tr>\n",
       "    <tr>\n",
       "      <th>1</th>\n",
       "      <td>17</td>\n",
       "      <td>21</td>\n",
       "      <td>25</td>\n",
       "      <td>22</td>\n",
       "    </tr>\n",
       "  </tbody>\n",
       "</table>\n",
       "</div>"
      ],
      "text/plain": [
       "Country    Bangladesh  China  India  Srilanka\n",
       "Defective                                    \n",
       "0                 183    179    175       178\n",
       "1                  17     21     25        22"
      ]
     },
     "execution_count": 7,
     "metadata": {},
     "output_type": "execute_result"
    }
   ],
   "source": [
    "count"
   ]
  },
  {
   "cell_type": "code",
   "execution_count": null,
   "id": "2e94b893-54dc-4042-8c4e-f47e4b04ac71",
   "metadata": {},
   "outputs": [],
   "source": [
    "#chi_result \n",
    "chi2_result =scipy.stats.shi"
   ]
  }
 ],
 "metadata": {
  "kernelspec": {
   "display_name": "Python 3 (ipykernel)",
   "language": "python",
   "name": "python3"
  },
  "language_info": {
   "codemirror_mode": {
    "name": "ipython",
    "version": 3
   },
   "file_extension": ".py",
   "mimetype": "text/x-python",
   "name": "python",
   "nbconvert_exporter": "python",
   "pygments_lexer": "ipython3",
   "version": "3.11.7"
  },
  "widgets": {
   "application/vnd.jupyter.widget-state+json": {
    "state": {},
    "version_major": 2,
    "version_minor": 0
   }
  }
 },
 "nbformat": 4,
 "nbformat_minor": 5
}
