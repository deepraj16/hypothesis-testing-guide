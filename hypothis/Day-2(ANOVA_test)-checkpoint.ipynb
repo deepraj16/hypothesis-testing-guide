{
 "cells": [
  {
   "cell_type": "code",
   "execution_count": 2,
   "id": "c63c3adc-1666-40e5-a5c4-e916a317240d",
   "metadata": {},
   "outputs": [],
   "source": [
    "import pandas as pd\n",
    "import numpy as np \n",
    "from statsmodels.stats.proportion import proportions_ztest \n",
    " "
   ]
  },
  {
   "cell_type": "code",
   "execution_count": 3,
   "id": "c094154c-1894-4b4b-9504-0726130f259c",
   "metadata": {},
   "outputs": [],
   "source": [
    "# data preprocessing \n",
    "count =np.array([58,152])\n",
    "nods =np.array([480,740])"
   ]
  },
  {
   "cell_type": "code",
   "execution_count": 4,
   "id": "10badc32-b0ea-4787-96bc-62a5a70d310e",
   "metadata": {},
   "outputs": [],
   "source": [
    "soft_drink=pd.read_csv(\"JohnyTalkers2.csv\")"
   ]
  },
  {
   "cell_type": "code",
   "execution_count": 5,
   "id": "12073998-23eb-494e-b4f0-d5d6c1aa7278",
   "metadata": {},
   "outputs": [
    {
     "data": {
      "text/html": [
       "<div>\n",
       "<style scoped>\n",
       "    .dataframe tbody tr th:only-of-type {\n",
       "        vertical-align: middle;\n",
       "    }\n",
       "\n",
       "    .dataframe tbody tr th {\n",
       "        vertical-align: top;\n",
       "    }\n",
       "\n",
       "    .dataframe thead th {\n",
       "        text-align: right;\n",
       "    }\n",
       "</style>\n",
       "<table border=\"1\" class=\"dataframe\">\n",
       "  <thead>\n",
       "    <tr style=\"text-align: right;\">\n",
       "      <th></th>\n",
       "      <th>Person</th>\n",
       "      <th>Drinks</th>\n",
       "    </tr>\n",
       "  </thead>\n",
       "  <tbody>\n",
       "    <tr>\n",
       "      <th>846</th>\n",
       "      <td>Children</td>\n",
       "      <td>Did Not Purchase</td>\n",
       "    </tr>\n",
       "    <tr>\n",
       "      <th>185</th>\n",
       "      <td>Adults</td>\n",
       "      <td>Did Not Purchase</td>\n",
       "    </tr>\n",
       "    <tr>\n",
       "      <th>493</th>\n",
       "      <td>Children</td>\n",
       "      <td>Did Not Purchase</td>\n",
       "    </tr>\n",
       "    <tr>\n",
       "      <th>1124</th>\n",
       "      <td>Children</td>\n",
       "      <td>Did Not Purchase</td>\n",
       "    </tr>\n",
       "  </tbody>\n",
       "</table>\n",
       "</div>"
      ],
      "text/plain": [
       "        Person            Drinks\n",
       "846   Children  Did Not Purchase\n",
       "185     Adults  Did Not Purchase\n",
       "493   Children  Did Not Purchase\n",
       "1124  Children  Did Not Purchase"
      ]
     },
     "execution_count": 5,
     "metadata": {},
     "output_type": "execute_result"
    }
   ],
   "source": [
    "soft_drink.sample(4)"
   ]
  },
  {
   "cell_type": "code",
   "execution_count": 6,
   "id": "296b1f21-fbb7-42c6-a961-d8945a505db9",
   "metadata": {},
   "outputs": [],
   "source": [
    "# the two proportaion Z-test comparees the proporation \n",
    "# of two group \n",
    "# pepole counsuming ssoft_drink in each group (adulaste and child )"
   ]
  },
  {
   "cell_type": "code",
   "execution_count": 7,
   "id": "cb9804db-39d1-49ee-b9d4-cefa4eda4dc9",
   "metadata": {},
   "outputs": [],
   "source": [
    "# Using a two-sild \n",
    "#count=[58,152] : the number of sucesses \n",
    "# (pepole consumtion soft drink ) in each group (adulte and childerns)\n",
    "\n",
    "#nodes =[480,740] the total number of observertion \n",
    "# in each group adulats and child ren serverd \n",
    "# about the softdrink consution for adulats and child \n",
    "# Mean '  s how"
   ]
  },
  {
   "cell_type": "code",
   "execution_count": 8,
   "id": "5888e4cb-ed08-4466-b2ec-ee357dc00252",
   "metadata": {},
   "outputs": [],
   "source": [
    "#Chi-queu y test thers are often extrationed from datasets \n",
    "#if you data is in s file (liking \"JohuyTalker.csv\")\n",
    "#you can clateculet the values "
   ]
  },
  {
   "cell_type": "code",
   "execution_count": 12,
   "id": "dc98d60a-02dc-4573-86fd-5ce26092efd8",
   "metadata": {},
   "outputs": [
    {
     "data": {
      "text/html": [
       "<div>\n",
       "<style scoped>\n",
       "    .dataframe tbody tr th:only-of-type {\n",
       "        vertical-align: middle;\n",
       "    }\n",
       "\n",
       "    .dataframe tbody tr th {\n",
       "        vertical-align: top;\n",
       "    }\n",
       "\n",
       "    .dataframe thead th {\n",
       "        text-align: right;\n",
       "    }\n",
       "</style>\n",
       "<table border=\"1\" class=\"dataframe\">\n",
       "  <thead>\n",
       "    <tr style=\"text-align: right;\">\n",
       "      <th></th>\n",
       "      <th>Person</th>\n",
       "      <th>Drinks</th>\n",
       "    </tr>\n",
       "  </thead>\n",
       "  <tbody>\n",
       "    <tr>\n",
       "      <th>924</th>\n",
       "      <td>Children</td>\n",
       "      <td>Did Not Purchase</td>\n",
       "    </tr>\n",
       "    <tr>\n",
       "      <th>222</th>\n",
       "      <td>Adults</td>\n",
       "      <td>Did Not Purchase</td>\n",
       "    </tr>\n",
       "    <tr>\n",
       "      <th>609</th>\n",
       "      <td>Children</td>\n",
       "      <td>Purchased</td>\n",
       "    </tr>\n",
       "  </tbody>\n",
       "</table>\n",
       "</div>"
      ],
      "text/plain": [
       "       Person            Drinks\n",
       "924  Children  Did Not Purchase\n",
       "222    Adults  Did Not Purchase\n",
       "609  Children         Purchased"
      ]
     },
     "execution_count": 12,
     "metadata": {},
     "output_type": "execute_result"
    }
   ],
   "source": [
    "#therse\n",
    "soft_drink.sample(3)"
   ]
  },
  {
   "cell_type": "code",
   "execution_count": 15,
   "id": "42c2a5d6-49ce-440e-abf8-6308ba95644e",
   "metadata": {},
   "outputs": [],
   "source": [
    "abults=soft_drink[soft_drink['Person']=='Adults']\n",
    "children=soft_drink[soft_drink['Person']=='Children']"
   ]
  },
  {
   "cell_type": "code",
   "execution_count": 22,
   "id": "30d93acd-0339-4f05-92a1-6863cdf72fd8",
   "metadata": {},
   "outputs": [],
   "source": [
    "adult_count=len(abults)\n",
    "children_count=len(children)"
   ]
  },
  {
   "cell_type": "code",
   "execution_count": 25,
   "id": "93fe25ec-3e26-4d21-b504-da673006d16c",
   "metadata": {},
   "outputs": [],
   "source": [
    "cont_adults=abults[abults['Drinks']=='Purchased'].shape[0]\n",
    "cont_chidren=children[children['Drinks']=='Purchased'].shape[0]"
   ]
  },
  {
   "cell_type": "code",
   "execution_count": 23,
   "id": "f59957f9-dd86-441e-a6cf-972cd336e15c",
   "metadata": {},
   "outputs": [
    {
     "name": "stdout",
     "output_type": "stream",
     "text": [
      "480\n",
      "740\n"
     ]
    }
   ],
   "source": [
    "print(adult_count)\n",
    "print(children_count)"
   ]
  },
  {
   "cell_type": "code",
   "execution_count": 19,
   "id": "bbdab332-7bd1-410f-ab2f-10719ab62079",
   "metadata": {},
   "outputs": [
    {
     "data": {
      "text/plain": [
       "(480, 2)"
      ]
     },
     "execution_count": 19,
     "metadata": {},
     "output_type": "execute_result"
    }
   ],
   "source": [
    "abults.shape"
   ]
  },
  {
   "cell_type": "code",
   "execution_count": 20,
   "id": "1250b38a-317a-421b-9059-6d55625652b8",
   "metadata": {},
   "outputs": [
    {
     "data": {
      "text/plain": [
       "(740, 2)"
      ]
     },
     "execution_count": 20,
     "metadata": {},
     "output_type": "execute_result"
    }
   ],
   "source": [
    "children.shape"
   ]
  },
  {
   "cell_type": "code",
   "execution_count": 26,
   "id": "90f7bf35-3312-4d3e-9bf2-397e0896a57f",
   "metadata": {},
   "outputs": [],
   "source": [
    "count=[cont_adults,cont_chidren]\n",
    "nods=[adult_count,children_count]"
   ]
  },
  {
   "cell_type": "code",
   "execution_count": 27,
   "id": "86e287a4-140b-4699-8bbc-0dc43faca983",
   "metadata": {},
   "outputs": [
    {
     "name": "stdout",
     "output_type": "stream",
     "text": [
      "[58, 152]\n",
      "[480, 740]\n"
     ]
    }
   ],
   "source": [
    "print(count)\n",
    "print(nods)"
   ]
  },
  {
   "cell_type": "code",
   "execution_count": 28,
   "id": "7a994345-a000-4176-8034-39a02a55db41",
   "metadata": {},
   "outputs": [
    {
     "name": "stdout",
     "output_type": "stream",
     "text": [
      "Two-side Proporation Test :  -3.8227247718795447 P-value 0.00013198507287726183\n"
     ]
    }
   ],
   "source": [
    "# two-side-test \n",
    "z_stat,p_val=proportions_ztest(count,nods,alternative='two-sided')\n",
    "print(\"Two-side Proporation Test : \",z_stat,\"P-value\",p_val)"
   ]
  },
  {
   "cell_type": "code",
   "execution_count": null,
   "id": "e4692edb-d848-49d6-8a20-0288995be919",
   "metadata": {},
   "outputs": [],
   "source": [
    "#Interpretation \n",
    "#h0=Proporation of adults and childern counsuming the soft drinks are the \n",
    "#h1=Proporation are different \n",
    "# since the p-vlaue (0.0000) is less than 0.05 we rejected the null hypothsis \n",
    "#conclusion : there is signification diffrence in ssoft_drink consumptions \n",
    "\n",
    "#chi -Square Test \n",
    "#Objective defective pro\n"
   ]
  }
 ],
 "metadata": {
  "kernelspec": {
   "display_name": "Python 3 (ipykernel)",
   "language": "python",
   "name": "python3"
  },
  "language_info": {
   "codemirror_mode": {
    "name": "ipython",
    "version": 3
   },
   "file_extension": ".py",
   "mimetype": "text/x-python",
   "name": "python",
   "nbconvert_exporter": "python",
   "pygments_lexer": "ipython3",
   "version": "3.11.7"
  },
  "widgets": {
   "application/vnd.jupyter.widget-state+json": {
    "state": {},
    "version_major": 2,
    "version_minor": 0
   }
  }
 },
 "nbformat": 4,
 "nbformat_minor": 5
}
