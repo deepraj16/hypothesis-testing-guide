{
 "cells": [
  {
   "cell_type": "raw",
   "id": "6209098e-fcb1-478a-a166-649a9c7c7760",
   "metadata": {},
   "source": [
    "3.)\tSales of products in four different regions is tabulated for males and females. Find if male-female buyer rations are similar across regions.\n",
    "East West North South\n",
    "\n",
    "Analyze the data and determine whether there is any difference in average TAT among the four different regions at 5% significance level.\n",
    "File: BuyerRatio.csv"
   ]
  },
  {
   "cell_type": "code",
   "execution_count": 2,
   "id": "ff4c3bd0-a4b6-4875-9607-6b646fc393d5",
   "metadata": {},
   "outputs": [],
   "source": [
    "import pandas as pd \n",
    "df= pd.read_csv(\"BuyerRatio.csv\")"
   ]
  },
  {
   "cell_type": "markdown",
   "id": "bb4fe7f8-7ae1-49ad-b5ff-3041a7885b6a",
   "metadata": {},
   "source": [
    "# Best Statistical Test: Chi-Square Test for Independence"
   ]
  },
  {
   "cell_type": "code",
   "execution_count": 3,
   "id": "95eb31b3-56b4-450f-b216-50456722af5d",
   "metadata": {},
   "outputs": [
    {
     "data": {
      "text/html": [
       "<div>\n",
       "<style scoped>\n",
       "    .dataframe tbody tr th:only-of-type {\n",
       "        vertical-align: middle;\n",
       "    }\n",
       "\n",
       "    .dataframe tbody tr th {\n",
       "        vertical-align: top;\n",
       "    }\n",
       "\n",
       "    .dataframe thead th {\n",
       "        text-align: right;\n",
       "    }\n",
       "</style>\n",
       "<table border=\"1\" class=\"dataframe\">\n",
       "  <thead>\n",
       "    <tr style=\"text-align: right;\">\n",
       "      <th></th>\n",
       "      <th>Observed Values</th>\n",
       "      <th>East</th>\n",
       "      <th>West</th>\n",
       "      <th>North</th>\n",
       "      <th>South</th>\n",
       "    </tr>\n",
       "  </thead>\n",
       "  <tbody>\n",
       "    <tr>\n",
       "      <th>0</th>\n",
       "      <td>Males</td>\n",
       "      <td>50</td>\n",
       "      <td>142</td>\n",
       "      <td>131</td>\n",
       "      <td>70</td>\n",
       "    </tr>\n",
       "    <tr>\n",
       "      <th>1</th>\n",
       "      <td>Females</td>\n",
       "      <td>435</td>\n",
       "      <td>1523</td>\n",
       "      <td>1356</td>\n",
       "      <td>750</td>\n",
       "    </tr>\n",
       "  </tbody>\n",
       "</table>\n",
       "</div>"
      ],
      "text/plain": [
       "  Observed Values  East  West  North  South\n",
       "0           Males    50   142    131     70\n",
       "1         Females   435  1523   1356    750"
      ]
     },
     "execution_count": 3,
     "metadata": {},
     "output_type": "execute_result"
    }
   ],
   "source": [
    "df"
   ]
  },
  {
   "cell_type": "raw",
   "id": "d412ef0f-2fde-43ed-9dbc-952371813358",
   "metadata": {},
   "source": [
    "Step 1: Define Hypotheses\n",
    "Null Hypothesis : There is significant simlar in  male-female the average mean among the all.\n",
    "\n",
    "Alternative Hypothesis :  significantly  not simlar . "
   ]
  },
  {
   "cell_type": "code",
   "execution_count": 5,
   "id": "aa69f9f1-0ed3-429f-b4ef-51190bd46588",
   "metadata": {},
   "outputs": [],
   "source": [
    "import scipy \n",
    "from scipy import stats \n"
   ]
  },
  {
   "cell_type": "code",
   "execution_count": 6,
   "id": "aeec3faa-2f48-4d3a-aaf2-55421ed7905a",
   "metadata": {},
   "outputs": [],
   "source": [
    "# here inpurt is decting and output is also disectie ] \n",
    "# sample are more then 2 hences chi_square test need to apply "
   ]
  },
  {
   "cell_type": "code",
   "execution_count": 7,
   "id": "3b72efbe-d68f-4c1b-bf87-3930a3bb331b",
   "metadata": {},
   "outputs": [],
   "source": [
    "scales = df.iloc[:,1:6]"
   ]
  },
  {
   "cell_type": "code",
   "execution_count": 8,
   "id": "ca0d4d13-f524-4834-be09-4b1d3cb6b417",
   "metadata": {},
   "outputs": [
    {
     "data": {
      "text/html": [
       "<div>\n",
       "<style scoped>\n",
       "    .dataframe tbody tr th:only-of-type {\n",
       "        vertical-align: middle;\n",
       "    }\n",
       "\n",
       "    .dataframe tbody tr th {\n",
       "        vertical-align: top;\n",
       "    }\n",
       "\n",
       "    .dataframe thead th {\n",
       "        text-align: right;\n",
       "    }\n",
       "</style>\n",
       "<table border=\"1\" class=\"dataframe\">\n",
       "  <thead>\n",
       "    <tr style=\"text-align: right;\">\n",
       "      <th></th>\n",
       "      <th>East</th>\n",
       "      <th>West</th>\n",
       "      <th>North</th>\n",
       "      <th>South</th>\n",
       "    </tr>\n",
       "  </thead>\n",
       "  <tbody>\n",
       "    <tr>\n",
       "      <th>0</th>\n",
       "      <td>50</td>\n",
       "      <td>142</td>\n",
       "      <td>131</td>\n",
       "      <td>70</td>\n",
       "    </tr>\n",
       "    <tr>\n",
       "      <th>1</th>\n",
       "      <td>435</td>\n",
       "      <td>1523</td>\n",
       "      <td>1356</td>\n",
       "      <td>750</td>\n",
       "    </tr>\n",
       "  </tbody>\n",
       "</table>\n",
       "</div>"
      ],
      "text/plain": [
       "   East  West  North  South\n",
       "0    50   142    131     70\n",
       "1   435  1523   1356    750"
      ]
     },
     "execution_count": 8,
     "metadata": {},
     "output_type": "execute_result"
    }
   ],
   "source": [
    "scales"
   ]
  },
  {
   "cell_type": "code",
   "execution_count": 9,
   "id": "2d7c1f6d-b5c2-4cb1-abd6-8c58a07b3fb2",
   "metadata": {},
   "outputs": [],
   "source": [
    "chisquare_result =scipy.stats.chi2_contingency(scales.values)"
   ]
  },
  {
   "cell_type": "code",
   "execution_count": 10,
   "id": "9515e2e2-4292-4a22-9b27-b312d727949d",
   "metadata": {},
   "outputs": [
    {
     "data": {
      "text/plain": [
       "Chi2ContingencyResult(statistic=1.595945538661058, pvalue=0.6603094907091882, dof=3, expected_freq=array([[  42.76531299,  146.81287862,  131.11756787,   72.30424052],\n",
       "       [ 442.23468701, 1518.18712138, 1355.88243213,  747.69575948]]))"
      ]
     },
     "execution_count": 10,
     "metadata": {},
     "output_type": "execute_result"
    }
   ],
   "source": [
    "chisquare_result"
   ]
  },
  {
   "cell_type": "code",
   "execution_count": 11,
   "id": "53c732ce-b77a-4761-b0cd-50f26389fc79",
   "metadata": {},
   "outputs": [],
   "source": [
    "chi_square =[['Test statictics','p-values'],chisquare_result[0],chisquare_result[1]]"
   ]
  },
  {
   "cell_type": "code",
   "execution_count": 12,
   "id": "69bf9dab-b93c-412f-9840-1e342a9566fc",
   "metadata": {},
   "outputs": [
    {
     "data": {
      "text/plain": [
       "[['Test statictics', 'p-values'], 1.595945538661058, 0.6603094907091882]"
      ]
     },
     "execution_count": 12,
     "metadata": {},
     "output_type": "execute_result"
    }
   ],
   "source": [
    "chi_square"
   ]
  },
  {
   "cell_type": "code",
   "execution_count": null,
   "id": "cf809603-ca6f-40f6-996b-ba455704a0f1",
   "metadata": {},
   "outputs": [],
   "source": [
    "p-values > singficant values ,p high null  H0 is true"
   ]
  }
 ],
 "metadata": {
  "kernelspec": {
   "display_name": "Python 3 (ipykernel)",
   "language": "python",
   "name": "python3"
  },
  "language_info": {
   "codemirror_mode": {
    "name": "ipython",
    "version": 3
   },
   "file_extension": ".py",
   "mimetype": "text/x-python",
   "name": "python",
   "nbconvert_exporter": "python",
   "pygments_lexer": "ipython3",
   "version": "3.11.7"
  },
  "widgets": {
   "application/vnd.jupyter.widget-state+json": {
    "state": {},
    "version_major": 2,
    "version_minor": 0
   }
  }
 },
 "nbformat": 4,
 "nbformat_minor": 5
}
